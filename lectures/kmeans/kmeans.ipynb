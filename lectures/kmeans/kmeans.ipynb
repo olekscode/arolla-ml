{
  "nbformat": 4,
  "nbformat_minor": 0,
  "metadata": {
    "kernelspec": {
      "display_name": "Python 3",
      "language": "python",
      "name": "python3"
    },
    "language_info": {
      "codemirror_mode": {
        "name": "ipython",
        "version": 3
      },
      "file_extension": ".py",
      "mimetype": "text/x-python",
      "name": "python",
      "nbconvert_exporter": "python",
      "pygments_lexer": "ipython3",
      "version": "3.7.4"
    },
    "colab": {
      "name": "kmeans.ipynb",
      "provenance": []
    }
  },
  "cells": [
    {
      "cell_type": "markdown",
      "metadata": {
        "id": "b-DGs7TAD7M-"
      },
      "source": [
        "# K-means Clustering"
      ]
    },
    {
      "cell_type": "markdown",
      "metadata": {
        "id": "oH9lfmvHFzW-"
      },
      "source": [
        "## Implementation in Python"
      ]
    },
    {
      "cell_type": "markdown",
      "metadata": {
        "id": "q4L8ueR7F4sW"
      },
      "source": [
        "Let's start by loading several Python libraries that will allow us to work with data, visualize the results, etc."
      ]
    },
    {
      "cell_type": "code",
      "metadata": {
        "id": "Kv70jcwfD5US"
      },
      "source": [
        "import pandas as pd # data frame library that allows us to load the data and work with it\n",
        "import matplotlib.pyplot as plt # data visualization library\n",
        "import seaborn as sns # another data visualization library built on top of matplotlib. It allows us to have better plots\n",
        "\n",
        "sns.set_theme(\n",
        "    style='ticks',\n",
        "    font_scale=1.3,\n",
        "    rc={\n",
        "      'figure.figsize':(11.7,8.27),\n",
        "      'axes.spines.top': False,\n",
        "      'axes.spines.right': False\n",
        "    })"
      ],
      "execution_count": 35,
      "outputs": []
    },
    {
      "cell_type": "markdown",
      "metadata": {
        "id": "Z8Hoy-FMGppt"
      },
      "source": [
        "### Step 1. Loading and exploring the data"
      ]
    },
    {
      "cell_type": "code",
      "metadata": {
        "id": "evKF89aIEwSS",
        "outputId": "5d232d00-d00b-4fa7-da74-efd597256988",
        "colab": {
          "base_uri": "https://localhost:8080/",
          "height": 204
        }
      },
      "source": [
        "# Raw CSV file stored in our repository on GitHub\n",
        "url = 'https://raw.githubusercontent.com/olekscode/arolla-ml/master/data/old-faithful.csv';\n",
        "\n",
        "# Read the data\n",
        "data = pd.read_csv(url);\n",
        "\n",
        "# Display first 5 colums of the dataset\n",
        "data.head()"
      ],
      "execution_count": 5,
      "outputs": [
        {
          "output_type": "execute_result",
          "data": {
            "text/html": [
              "<div>\n",
              "<style scoped>\n",
              "    .dataframe tbody tr th:only-of-type {\n",
              "        vertical-align: middle;\n",
              "    }\n",
              "\n",
              "    .dataframe tbody tr th {\n",
              "        vertical-align: top;\n",
              "    }\n",
              "\n",
              "    .dataframe thead th {\n",
              "        text-align: right;\n",
              "    }\n",
              "</style>\n",
              "<table border=\"1\" class=\"dataframe\">\n",
              "  <thead>\n",
              "    <tr style=\"text-align: right;\">\n",
              "      <th></th>\n",
              "      <th>eruptions</th>\n",
              "      <th>waiting</th>\n",
              "    </tr>\n",
              "  </thead>\n",
              "  <tbody>\n",
              "    <tr>\n",
              "      <th>0</th>\n",
              "      <td>3.600</td>\n",
              "      <td>79</td>\n",
              "    </tr>\n",
              "    <tr>\n",
              "      <th>1</th>\n",
              "      <td>1.800</td>\n",
              "      <td>54</td>\n",
              "    </tr>\n",
              "    <tr>\n",
              "      <th>2</th>\n",
              "      <td>3.333</td>\n",
              "      <td>74</td>\n",
              "    </tr>\n",
              "    <tr>\n",
              "      <th>3</th>\n",
              "      <td>2.283</td>\n",
              "      <td>62</td>\n",
              "    </tr>\n",
              "    <tr>\n",
              "      <th>4</th>\n",
              "      <td>4.533</td>\n",
              "      <td>85</td>\n",
              "    </tr>\n",
              "  </tbody>\n",
              "</table>\n",
              "</div>"
            ],
            "text/plain": [
              "   eruptions  waiting\n",
              "0      3.600       79\n",
              "1      1.800       54\n",
              "2      3.333       74\n",
              "3      2.283       62\n",
              "4      4.533       85"
            ]
          },
          "metadata": {
            "tags": []
          },
          "execution_count": 5
        }
      ]
    },
    {
      "cell_type": "code",
      "metadata": {
        "id": "Q3yLZljgE7P0",
        "outputId": "f8c9c7dc-0981-41e5-ae74-790878f3153a",
        "colab": {
          "base_uri": "https://localhost:8080/"
        }
      },
      "source": [
        "data.shape"
      ],
      "execution_count": 8,
      "outputs": [
        {
          "output_type": "execute_result",
          "data": {
            "text/plain": [
              "(272, 2)"
            ]
          },
          "metadata": {
            "tags": []
          },
          "execution_count": 8
        }
      ]
    },
    {
      "cell_type": "markdown",
      "metadata": {
        "id": "l83zugliG1kh"
      },
      "source": [
        "### Step 2: Visualizing the data"
      ]
    },
    {
      "cell_type": "code",
      "metadata": {
        "id": "6jTDnttLG6L5",
        "outputId": "a722213f-864e-470b-d16e-2f9369c4d514",
        "colab": {
          "base_uri": "https://localhost:8080/",
          "height": 558
        }
      },
      "source": [
        "plt.scatter(x=data['eruptions'], y=data['waiting'])\n",
        "plt.title('Eruptions of the Old Faithful Geizer')\n",
        "plt.xlabel(\"Eruption duration (sec)\")\n",
        "plt.ylabel(\"Waiting time (min)\")"
      ],
      "execution_count": 38,
      "outputs": [
        {
          "output_type": "execute_result",
          "data": {
            "text/plain": [
              "Text(0, 0.5, 'Waiting time (min)')"
            ]
          },
          "metadata": {
            "tags": []
          },
          "execution_count": 38
        },
        {
          "output_type": "display_data",
          "data": {
            "image/png": "[encoded data removed]",
            "text/plain": [
              "<Figure size 842.4x595.44 with 1 Axes>"
            ]
          },
          "metadata": {
            "tags": []
          }
        }
      ]
    },
    {
      "cell_type": "markdown",
      "metadata": {
        "id": "xWY_V3hnLgPn"
      },
      "source": [
        "### Step 3. Simple implementation of K-means clustering"
      ]
    },
    {
      "cell_type": "code",
      "metadata": {
        "id": "TYUM582sHISr"
      },
      "source": [
        ""
      ],
      "execution_count": null,
      "outputs": []
    },
    {
      "cell_type": "markdown",
      "metadata": {
        "id": "eH1eQmHqLn63"
      },
      "source": [
        "### Step 4. K-means clustering with scikit-learn"
      ]
    },
    {
      "cell_type": "code",
      "metadata": {
        "id": "OPj1-4FULluu"
      },
      "source": [
        ""
      ],
      "execution_count": null,
      "outputs": []
    }
  ]
}